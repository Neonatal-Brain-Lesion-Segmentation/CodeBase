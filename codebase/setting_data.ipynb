{
 "cells": [
  {
   "cell_type": "code",
   "execution_count": 1,
   "metadata": {},
   "outputs": [],
   "source": [
    "import SimpleITK as sitk\n",
    "import numpy as np\n",
    "import matplotlib.pyplot as plt\n",
    "import os\n",
    "import pandas as pd"
   ]
  },
  {
   "cell_type": "code",
   "execution_count": 2,
   "metadata": {},
   "outputs": [],
   "source": [
    "adc_dir_path = \"/Users/ananyashukla/Desktop/Brown@Research/lesion_segmentation/data_dir/BONBID2023_Val/1ADC_ss\"\n",
    "label_dir_path = \"/Users/ananyashukla/Desktop/Brown@Research/lesion_segmentation/data_dir/BONBID2023_Val/3LABEL\"\n",
    "adc_dest_path = \"/Users/ananyashukla/Desktop/Brown@Research/lesion_segmentation/data_dir/BONBID2023_Val/ADC\"\n",
    "label_dest_path = \"/Users/ananyashukla/Desktop/Brown@Research/lesion_segmentation/data_dir/BONBID2023_Val/LABEL\"\n",
    "zadc_dir_path = \"/Users/ananyashukla/Desktop/Brown@Research/lesion_segmentation/data_dir/BONBID2023_Val/2Z_ADC\"\n",
    "zadc_dest_path = \"/Users/ananyashukla/Desktop/Brown@Research/lesion_segmentation/data_dir/BONBID2023_Val/Z_ADC\"\n",
    "\n",
    "# image = sitk.ReadImage(image_path)\n",
    "# print(sitk.GetArrayFromImage(image).shape)\n",
    "# print(image.GetSize())\n",
    "# print(image.GetSpacing())\n",
    "# print(image.GetOrigin())\n",
    "# print(image.GetDirection())\n",
    "# print(image.GetPixelIDTypeAsString())\n",
    "# print(image.GetMetaDataKeys())\n",
    "# print(image.GetDepth())\n",
    "# print(image.GetWidth())\n",
    "# print(image.GetHeight())\n",
    "# print(image.GetDimension())\n",
    "\n",
    "# for key in image.GetMetaDataKeys():\n",
    "#     print(key + \": \" + image.GetMetaData(key))"
   ]
  },
  {
   "cell_type": "code",
   "execution_count": 3,
   "metadata": {},
   "outputs": [],
   "source": [
    "def extract_mha_file(file_path:str) -> tuple:\n",
    "    \"\"\"This function disassembles an MHA file and returns a numpy array, the spacing, the direction and the origin of the image. \n",
    "    If required, this function will be modified to return other parameters mentioned in the the metadata of the mha file.\"\"\"\n",
    "    image = sitk.ReadImage(file_path)\n",
    "    image_array = sitk.GetArrayFromImage(image)\n",
    "    spacing = image.GetSpacing()\n",
    "    direction = image.GetDirection()\n",
    "    origin = image.GetOrigin()\n",
    "    return image_array, spacing[::-1], direction[::-1], origin[::-1]\n",
    "\n",
    "def save_slices(dest_dir,image_id,image_array,category = '') -> None:\n",
    "    \"\"\"Saves 2d Slices as npy files of 3d Image\"\"\"\n",
    "    for i in range(image_array.shape[0]):\n",
    "        np.save(f\"{dest_dir}/{image_id}_{category.upper()}_slice_{i}.npy\", image_array[i])\n",
    "\n",
    "def reassemble_to_3d(folder_path, uid) -> np.ndarray:\n",
    "    \"\"\"Reads the npy files of a certain patient and stacks them into a 3d image\"\"\"\n",
    "    files = sorted([file for file in os.listdir(folder_path) if extract_id(file)==uid], key = lambda x:int(x.split('.')[0].split('_')[-1]))\n",
    "    # files = sorted(os.listdir(folder_path), key = lambda x:int(x.split('.')[0].split('_')[-1]))\n",
    "    slices = []\n",
    "    for file in files:\n",
    "        slices.append(np.load(f\"{folder_path}/{file}\"))\n",
    "    return np.stack(slices)\n",
    "\n",
    "def extract_id(file_name:str) -> str:\n",
    "    \"\"\"The assumption is that the patient ID is the fist numeric sequence in the file name.\"\"\"\n",
    "    elements = file_name.split('-')[0].split('_')\n",
    "    for i in elements:\n",
    "        if i.isdigit():\n",
    "            return i\n",
    "\n",
    "def calculate_volume_percentage(adc_image:np.ndarray, label_image:np.ndarray) -> float:\n",
    "    \"\"\"\n",
    "    Calculate the percentage of lesion volume in the brain volume, from the 3D ADC and Label Image\n",
    "    \"\"\"\n",
    "    brain_mask = np.where((adc_image >= 1) & (adc_image <= 3400), 1, 0)\n",
    "    lesion_mask = np.where(label_image == 1, 1, 0)\n",
    "    return np.sum(lesion_mask) / np.sum(brain_mask) * 100\n",
    "\n",
    "def split_files_gen_csv(source_dir:str, dest_dir:str, category:str, gen_csv:bool=False, adc_dir = None)->None:\n",
    "    \"\"\"Saves 3d files as 2d npy files from a given directory. Can caclulate volume if masks have been provided. \n",
    "    Will generate a CSV containing metadata.\"\"\"\n",
    "    if gen_csv and adc_dir is not None:\n",
    "        meta_df=pd.DataFrame(columns=[\"Patient ID\",\"Axial Slices\", \"Coronal Slices\", \"Sagittal Slices\", \"Lesion Percentage\",\"Axial Spacing\", \"Coronal Spacing\", \"Sagittal Spacing\"])\n",
    "\n",
    "    if not os.path.exists(dest_dir):\n",
    "        os.makedirs(dest_dir)\n",
    "    \n",
    "    for file in os.listdir(source_dir):\n",
    "        if not file.endswith('.mha'):\n",
    "            continue\n",
    "\n",
    "        image_array, spacing, direction, origin = extract_mha_file(f\"{source_dir}/{file}\")\n",
    "        uid = extract_id(file)\n",
    "\n",
    "        save_slices(dest_dir,uid,image_array,category)\n",
    "\n",
    "        if gen_csv:\n",
    "            # reconstruct 3d image for adc with this UID, and pass that ND MAAK\n",
    "            num_axial, num_coronal, num_sagittal = image_array.shape\n",
    "            spacing_axial, spacing_coronal, spacing_sagittal = spacing\n",
    "            \n",
    "            adc_array = reassemble_to_3d(adc_dir, uid)\n",
    "            volume = calculate_volume_percentage(adc_array, image_array)\n",
    "\n",
    "            meta_df.loc[len(meta_df.index)] = [uid, num_axial, num_coronal, num_sagittal, volume, spacing_axial, spacing_coronal, spacing_sagittal]\n",
    "\n",
    "    if gen_csv:\n",
    "        meta_df.to_csv(f\"{dest_dir}/metadata.csv\", index=False)"
   ]
  },
  {
   "cell_type": "code",
   "execution_count": null,
   "metadata": {},
   "outputs": [],
   "source": [
    "image_array, spacing, direction, origin = extract_mha_file(image_path)\n",
    "print(image_array.shape)\n",
    "print(spacing)\n",
    "print(direction)\n",
    "print(origin)"
   ]
  },
  {
   "cell_type": "code",
   "execution_count": null,
   "metadata": {},
   "outputs": [],
   "source": [
    "# MGHNICU_010-VISIT_01-ADC_ss\n",
    "save_slices('/Users/amograo/Research_Projects/DL_HIE_2024/test_saving','MGHNICU_010-VISIT_01-ADC_ss',image_array)"
   ]
  },
  {
   "cell_type": "code",
   "execution_count": null,
   "metadata": {},
   "outputs": [],
   "source": [
    "files = os.listdir('/Users/amograo/Research_Projects/DL_HIE_2024/test_saving')\n",
    "ids = [extract_id(file) for file in files]\n",
    "print(ids)"
   ]
  },
  {
   "cell_type": "code",
   "execution_count": null,
   "metadata": {},
   "outputs": [],
   "source": [
    "new_3d = reassemble_to_3d('/Users/amograo/Research_Projects/DL_HIE_2024/test_saving','010')"
   ]
  },
  {
   "cell_type": "code",
   "execution_count": null,
   "metadata": {},
   "outputs": [],
   "source": [
    "print(new_3d.shape)\n",
    "print(new_3d.dtype)\n",
    "print(image_array.dtype)\n",
    "print(np.array_equal(new_3d,image_array))\n",
    "print(np.array_equal(new_3d,sitk.GetArrayFromImage(image)))"
   ]
  },
  {
   "cell_type": "code",
   "execution_count": null,
   "metadata": {},
   "outputs": [],
   "source": [
    "# # plot each image in image_array\n",
    "# for i in range(image_array.shape[0]):\n",
    "#     plt.imshow(image_array[i,:,:])\n",
    "#     plt.show()\n",
    "#     plt.close()\n",
    "\n",
    "l = []\n",
    "k = []\n",
    "\n",
    "for i in image_array:\n",
    "    l.append(i)\n",
    "    # plt.imshow(i)\n",
    "    # plt.show()\n",
    "    # plt.close()\n",
    "\n",
    "for i in range(image_array.shape[0]):\n",
    "    k.append(image_array[i,:,:])\n",
    "#     plt.imshow(image_array[i,:,:])\n",
    "#     plt.show()\n",
    "#     plt.close()\n",
    "\n",
    "for i in range(len(l)):\n",
    "    print(np.array_equal(l[i], k[i]))"
   ]
  },
  {
   "cell_type": "code",
   "execution_count": null,
   "metadata": {},
   "outputs": [],
   "source": [
    "\"050\".isdigit()"
   ]
  }
 ],
 "metadata": {
  "kernelspec": {
   "display_name": "HIEvenv",
   "language": "python",
   "name": "python3"
  },
  "language_info": {
   "codemirror_mode": {
    "name": "ipython",
    "version": 3
   },
   "file_extension": ".py",
   "mimetype": "text/x-python",
   "name": "python",
   "nbconvert_exporter": "python",
   "pygments_lexer": "ipython3",
   "version": "3.12.5"
  }
 },
 "nbformat": 4,
 "nbformat_minor": 2
}
