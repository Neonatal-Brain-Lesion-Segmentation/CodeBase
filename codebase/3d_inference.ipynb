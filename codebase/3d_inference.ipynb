{
 "cells": [
  {
   "cell_type": "code",
   "execution_count": 1,
   "metadata": {},
   "outputs": [
    {
     "name": "stderr",
     "output_type": "stream",
     "text": [
      "/Users/amograo/Research_Projects/DL_HIE_2024/env_hie/lib/python3.10/site-packages/tqdm/auto.py:21: TqdmWarning: IProgress not found. Please update jupyter and ipywidgets. See https://ipywidgets.readthedocs.io/en/stable/user_install.html\n",
      "  from .autonotebook import tqdm as notebook_tqdm\n"
     ]
    }
   ],
   "source": [
    "import torch\n",
    "import segmentation_models_pytorch as smp\n",
    "import monai\n",
    "\n",
    "from data_organization import HIE_Dataset, reassemble_to_3d\n",
    "from pipeline_utils import *\n",
    "from transforms.preprocess import resample\n",
    "\n",
    "import pandas as pd\n",
    "import numpy as np"
   ]
  },
  {
   "cell_type": "code",
   "execution_count": 2,
   "metadata": {},
   "outputs": [
    {
     "name": "stdout",
     "output_type": "stream",
     "text": [
      "mps\n"
     ]
    },
    {
     "name": "stderr",
     "output_type": "stream",
     "text": [
      "/var/folders/sb/tjd4rgj975q74d1l278__rb40000gn/T/ipykernel_17398/2897427476.py:16: FutureWarning: You are using `torch.load` with `weights_only=False` (the current default value), which uses the default pickle module implicitly. It is possible to construct malicious pickle data which will execute arbitrary code during unpickling (See https://github.com/pytorch/pytorch/blob/main/SECURITY.md#untrusted-models for more details). In a future release, the default value for `weights_only` will be flipped to `True`. This limits the functions that could be executed during unpickling. Arbitrary objects will no longer be allowed to be loaded via this mode unless they are explicitly allowlisted by the user via `torch.serialization.add_safe_globals`. We recommend you start setting `weights_only=True` for any use case where you don't have full control of the loaded file. Please open an issue on GitHub for any issues related to this experimental feature.\n",
      "  checkpoint = torch.load(\"/Users/amograo/Research_Projects/DL_HIE_2024/model_epoch_67_se_resnext101_32x4d.pth\",map_location=torch.device(DEVICE))\n"
     ]
    },
    {
     "name": "stdout",
     "output_type": "stream",
     "text": [
      "['436', '302', '001', '002']\n"
     ]
    }
   ],
   "source": [
    "\n",
    "DEVICE = \"cuda\" if torch.cuda.is_available() else \"mps\" if torch.mps.is_available() else \"cpu\"\n",
    "print(DEVICE)\n",
    "ENCODER = \"se_resnext101_32x4d\"\n",
    "DATA_ROOT = \"/Users/amograo/Desktop/DATASET\"\n",
    "\n",
    "model = smp.Unet(\n",
    "    encoder_name=ENCODER,\n",
    "    encoder_weights=None,     \n",
    "    in_channels=1,             \n",
    "    classes=1,\n",
    "    activation='sigmoid'               \n",
    ")\n",
    "\n",
    "model.to(DEVICE)\n",
    "\n",
    "checkpoint = torch.load(\"/Users/amograo/Research_Projects/DL_HIE_2024/model_epoch_67_se_resnext101_32x4d.pth\",map_location=torch.device(DEVICE))    \n",
    "model.load_state_dict(checkpoint['model_state_dict'])\n",
    "\n",
    "\n",
    "df = pd.read_csv(f'{DATA_ROOT}/BONBID2024_Val/metadata.csv')\n",
    "uids = [str(i).zfill(3) for i in df[\"Patient ID\"].tolist()]\n",
    "print(uids)\n",
    "\n",
    "preds_3d = {i: [] for i in uids}\n",
    "masks_3d = {uid: reassemble_to_3d(f'{DATA_ROOT}/BONBID2024_Val/LABEL', uid) for uid in uids}"
   ]
  },
  {
   "cell_type": "code",
   "execution_count": 3,
   "metadata": {},
   "outputs": [],
   "source": [
    "def crop_to_original(data: np.ndarray, original_size: tuple = (144, 160)) -> np.ndarray:\n",
    "    \"\"\"\n",
    "    Crops 2D slices (numpy arrays) from a target size back to the original size.\n",
    "    \n",
    "    Parameters:\n",
    "    - data (np.ndarray): Input array of shape (D, H, W).\n",
    "    - original_size (tuple): The target size to crop back to (Height, Width).\n",
    "    \n",
    "    Returns:\n",
    "    - np.ndarray: The cropped array of shape (D, original_size[0], original_size[1]).\n",
    "    \"\"\"\n",
    "    D, H, W = data.shape\n",
    "    target_height, target_width = original_size\n",
    "\n",
    "    # Calculate crop indices\n",
    "    start_h = (H - target_height) // 2\n",
    "    end_h = start_h + target_height\n",
    "    start_w = (W - target_width) // 2\n",
    "    end_w = start_w + target_width\n",
    "\n",
    "    # Perform cropping\n",
    "    cropped_data = data[:, start_h:end_h, start_w:end_w]\n",
    "    return cropped_data"
   ]
  },
  {
   "cell_type": "code",
   "execution_count": 4,
   "metadata": {},
   "outputs": [
    {
     "name": "stdout",
     "output_type": "stream",
     "text": [
      "436\n",
      "Dice: 0.4170483946800232\n",
      "MASD: 1.8921325206756592\n",
      "NSD: 0.6815482378005981\n",
      "302\n",
      "Dice: 0.6397282481193542\n",
      "MASD: 1.1265065670013428\n",
      "NSD: 0.8615713715553284\n",
      "001\n",
      "Dice: 0.2915717661380768\n",
      "MASD: 3.68727707862854\n",
      "NSD: 0.5125284790992737\n",
      "002\n",
      "Dice: 0.8321138620376587\n",
      "MASD: 0.7088707685470581\n",
      "NSD: 0.9671879410743713\n",
      "\n",
      "Average Metrics\n",
      "Dice 0.5451155677437782\n",
      "MASD 1.85369673371315\n",
      "NSD 0.7557090073823929\n"
     ]
    }
   ],
   "source": [
    "dice_l = []\n",
    "masd_l = []\n",
    "nsd_l = []\n",
    "for uid in uids:\n",
    "    image_set = reassemble_to_3d(f'{DATA_ROOT}/BONBID2024_Val/Z_ADC', uid)\n",
    "\n",
    "    for i in range(image_set.shape[0]):\n",
    "        image = np.expand_dims(resample(np.stack([image_set[i]])),axis=0)\n",
    "\n",
    "        image = torch.tensor(image).to(DEVICE)\n",
    "\n",
    "        output = model(image)\n",
    "        pred = (output >= 0.5).float()\n",
    "\n",
    "\n",
    "        preds_3d[uid].append(crop_to_original(pred.cpu().detach().numpy()[0],original_size=tuple(image_set.shape[1:]))[0])\n",
    "\n",
    "        # print(pred.shape)\n",
    "        # print(np.array(preds_3d[uid]).shape)\n",
    "        if len(preds_3d[uid]) == image_set.shape[0]:\n",
    "            preds_3d[uid] = np.stack(preds_3d[uid])\n",
    "            dice = monai.metrics.DiceMetric(include_background=True,ignore_empty=False)\n",
    "            masd = monai.metrics.SurfaceDistanceMetric(include_background=False, symmetric = True)\n",
    "            nsd = monai.metrics.SurfaceDiceMetric(include_background=False, distance_metric=\"euclidean\", class_thresholds=[2])\n",
    "            preds_mask = torch.tensor(preds_3d[uid]).unsqueeze(0).unsqueeze(0)\n",
    "            true_mask = torch.tensor(masks_3d[uid]).unsqueeze(0).unsqueeze(0)\n",
    "            print(uid)\n",
    "            dice_val = dice(preds_mask,true_mask).item()\n",
    "            masd_val = masd(preds_mask,true_mask).item()\n",
    "            nsd_val = nsd(preds_mask,true_mask).item()\n",
    "            dice_l.append(dice_val)\n",
    "            masd_l.append(masd_val)\n",
    "            nsd_l.append(nsd_val)\n",
    "            print(\"Dice:\",dice_val)\n",
    "            print(\"MASD:\",masd_val)\n",
    "            print(\"NSD:\",nsd_val)\n",
    "print()\n",
    "print(\"Average Metrics\")\n",
    "print(\"Dice\",np.mean(dice_l))\n",
    "print(\"MASD\",np.mean(masd_l))\n",
    "print(\"NSD\",np.mean(nsd_l))"
   ]
  }
 ],
 "metadata": {
  "kernelspec": {
   "display_name": "env_hie",
   "language": "python",
   "name": "python3"
  },
  "language_info": {
   "codemirror_mode": {
    "name": "ipython",
    "version": 3
   },
   "file_extension": ".py",
   "mimetype": "text/x-python",
   "name": "python",
   "nbconvert_exporter": "python",
   "pygments_lexer": "ipython3",
   "version": "3.10.11"
  }
 },
 "nbformat": 4,
 "nbformat_minor": 2
}
