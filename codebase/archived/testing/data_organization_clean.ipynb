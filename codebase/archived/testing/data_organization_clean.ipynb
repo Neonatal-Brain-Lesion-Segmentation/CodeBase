{
 "cells": [
  {
   "cell_type": "code",
   "execution_count": null,
   "metadata": {},
   "outputs": [],
   "source": [
    "import SimpleITK as sitk\n",
    "import numpy as np\n",
    "import pandas as pd\n",
    "import matplotlib.pyplot as plt\n",
    "import os"
   ]
  },
  {
   "cell_type": "code",
   "execution_count": null,
   "metadata": {},
   "outputs": [],
   "source": [
    "def extract_mha_file(file_path:str,calc_volume=False):\n",
    "    \"\"\"This function disassembles a mha file and returns a numpy array, the spacing, the direction and the origin of the image. \n",
    "    If required, this function will be modified to return other parameters mentioned in the the metadata of the mha file.\"\"\"\n",
    "    image = sitk.ReadImage(file_path)\n",
    "    image_array = sitk.GetArrayFromImage(image)\n",
    "    spacing = image.GetSpacing()\n",
    "    direction = image.GetDirection()\n",
    "    origin = image.GetOrigin()\n",
    "    volume = calculate_volume_percentage(image_array) if calc_volume else 0\n",
    "    return image_array, spacing[::-1], volume, direction[::-1], origin[::-1]\n",
    "\n",
    "def save_slices(dest_dir,image_id,image_array,category = '') -> None:\n",
    "    \"\"\"Saves 2d Slices as npy files of 3d Image\"\"\"\n",
    "    for i in range(image_array.shape[0]):\n",
    "        np.save(f\"{dest_dir}/{image_id}_{category.upper()}_slice_{i}.npy\", image_array[i])\n",
    "\n",
    "def reassemble_to_3d(folder_path, uid) -> np.ndarray:\n",
    "    \"\"\"Reads the npy files of a certain patient and stacks them into a 3d image\"\"\"\n",
    "    files = sorted([file for file in os.listdir(folder_path) if extract_id(file)==uid], key = lambda x:int(x.split('.')[0].split('_')[-1]))\n",
    "    # files = sorted(os.listdir(folder_path), key = lambda x:int(x.split('.')[0].split('_')[-1]))\n",
    "    slices = []\n",
    "    for file in files:\n",
    "        slices.append(np.load(f\"{folder_path}/{file}\"))\n",
    "    return np.stack(slices)\n",
    "\n",
    "def extract_id(file_name:str) -> str:\n",
    "    \"\"\"The assumption is that the patient ID is the fist numeric sequence in the file name.\"\"\"\n",
    "    elements = file_name.split('-')[0].split('_')\n",
    "    for i in elements:\n",
    "        if i.isdigit():\n",
    "            return i\n",
    "\n",
    "def calculate_volume_percentage(mask):\n",
    "    return 0\n",
    "\n",
    "def split_files_gen_csv(source_dir:str, dest_dir, category, gen_csv=False):\n",
    "    \"Saves 3d files as 2d npy files from a given directory. Can caclulate volume if masks have been provided. Will generate a CSV containing metadata.\"\n",
    "\n",
    "    meta_df=pd.DataFrame(columns=[\"Patient ID\",\"Axial Slices\", \"Coronal Slices\", \"Sagittal Slices\", \"Lesion Percentage\",\"Axial Spacing\", \"Coronal Spacing\", \"Sagittal Spacing\"])\n",
    "\n",
    "    if not os.path.exists(dest_dir):\n",
    "        os.makedirs(dest_dir)\n",
    "    \n",
    "    for file in os.listdir(source_dir):\n",
    "        if not file.endswith('.mha'):\n",
    "            continue\n",
    "\n",
    "        image_array, spacing, volume, direction, origin = extract_mha_file(f\"{source_dir}/{file}\")\n",
    "        uid = extract_id(file)\n",
    "\n",
    "        save_slices(dest_dir,uid,image_array,category)\n",
    "\n",
    "        if gen_csv:\n",
    "            num_axial, num_coronal, num_sagittal = image_array.shape\n",
    "            spacing_axial, spacing_coronal, spacing_sagittal = spacing\n",
    "            meta_df.loc[len(meta_df.index)] = [uid, num_axial, num_coronal, num_sagittal, volume, spacing_axial, spacing_coronal, spacing_sagittal]\n",
    "        \n",
    "    meta_df.to_csv(f\"{dest_dir}/metadata.csv\", index=False)\n",
    "\n",
    "\n"
   ]
  },
  {
   "cell_type": "code",
   "execution_count": null,
   "metadata": {},
   "outputs": [],
   "source": [
    "# def get_metadata_split_files(adc_path,zadc_path,lesion_path,dest_dir):\n",
    "#     \"\"\"\n",
    "#     To be changed to just do for a particular type, it's okay to call this function 3 times from outside.\n",
    "#     \"\"\"\n",
    "#     if not os.path.exists(dest_dir):\n",
    "#         os.makedirs(dest_dir)\n",
    "\n",
    "#     mappings = [('adc',adc_path),('zadc',zadc_path),('masks',lesion_path)]\n",
    "#     for i in mappings:\n",
    "#         if not os.path.exists(f\"{dest_dir}/{i[0]}\"):\n",
    "#             os.makedirs(f\"{dest_dir}/{i}\")\n",
    "\n",
    "#     for pidx in mappings:\n",
    "#         for file in os.listdir(pidx[1]):\n",
    "#             if not file.endswith('.mha'):\n",
    "#                 continue\n",
    "#             image_array, spacing, direction, origin = extract_mha_file(file)\n",
    "#             uid = extract_id(file)\n",
    "\n",
    "#             save_slices(f\"{dest_dir}/{pidx[0]}\",extract_id(file),image_array,pidx[0].upper()[:4])"
   ]
  },
  {
   "cell_type": "code",
   "execution_count": null,
   "metadata": {},
   "outputs": [],
   "source": [
    "### WRITE VERIFICATION CODE, FOR ALL FILE IDs FROM CSV IT SHOULD BE ABLE TO RECREATE EXACT IMAGE"
   ]
  }
 ],
 "metadata": {
  "kernelspec": {
   "display_name": "env_hie",
   "language": "python",
   "name": "python3"
  },
  "language_info": {
   "codemirror_mode": {
    "name": "ipython",
    "version": 3
   },
   "file_extension": ".py",
   "mimetype": "text/x-python",
   "name": "python",
   "nbconvert_exporter": "python",
   "pygments_lexer": "ipython3",
   "version": "3.10.11"
  }
 },
 "nbformat": 4,
 "nbformat_minor": 2
}
