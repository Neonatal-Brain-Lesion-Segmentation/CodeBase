{
 "cells": [
  {
   "cell_type": "code",
   "execution_count": 1,
   "metadata": {},
   "outputs": [],
   "source": [
    "import SimpleITK as sitk\n",
    "import numpy as np\n",
    "import matplotlib.pyplot as plt\n",
    "import os"
   ]
  },
  {
   "cell_type": "code",
   "execution_count": 2,
   "metadata": {},
   "outputs": [
    {
     "name": "stdout",
     "output_type": "stream",
     "text": [
      "(23, 128, 128)\n",
      "(128, 128, 23)\n",
      "(1.5625, 1.5625, 4.0)\n",
      "(-99.5, -102.2, -26.6)\n",
      "(1.0, 0.0, 0.0, 0.0, 1.0, 0.0, 0.0, 0.0, 1.0)\n",
      "32-bit float\n",
      "('ITK_FileNotes', 'ITK_InputFilterName', 'ITK_original_direction', 'ITK_original_spacing', 'Modality', 'bitpix', 'cal_max', 'cal_min', 'datatype', 'descrip', 'dim[0]', 'dim[1]', 'dim[2]', 'dim[3]', 'dim[4]', 'dim[5]', 'dim[6]', 'dim[7]', 'dim_info', 'intent_code', 'intent_p1', 'intent_p2', 'intent_p3', 'pixdim[0]', 'pixdim[1]', 'pixdim[2]', 'pixdim[3]', 'pixdim[4]', 'pixdim[5]', 'pixdim[6]', 'pixdim[7]', 'qform_code', 'qoffset_x', 'qoffset_y', 'qoffset_z', 'quatern_b', 'quatern_c', 'quatern_d', 'scl_inter', 'scl_slope', 'sform_code', 'slice_code', 'slice_duration', 'slice_end', 'slice_start', 'srow_x', 'srow_y', 'srow_z', 'toffset', 'vox_offset', 'xyzt_units')\n",
      "23\n",
      "128\n",
      "128\n",
      "3\n",
      "ITK_FileNotes: FSL5.0\n",
      "ITK_InputFilterName: NiftiImageIO\n",
      "ITK_original_direction: [UNKNOWN_PRINT_CHARACTERISTICS]\n",
      "\n",
      "ITK_original_spacing: [UNKNOWN_PRINT_CHARACTERISTICS]\n",
      "\n",
      "Modality: MET_MOD_UNKNOWN\n",
      "bitpix: 32\n",
      "cal_max: 0\n",
      "cal_min: 0\n",
      "datatype: 16\n",
      "descrip: FSL5.0\n",
      "dim[0]: 3\n",
      "dim[1]: 128\n",
      "dim[2]: 128\n",
      "dim[3]: 23\n",
      "dim[4]: 1\n",
      "dim[5]: 1\n",
      "dim[6]: 1\n",
      "dim[7]: 1\n",
      "dim_info: \n",
      "intent_code: 0\n",
      "intent_p1: 0\n",
      "intent_p2: 0\n",
      "intent_p3: 0\n",
      "pixdim[0]: 1\n",
      "pixdim[1]: 1.5625\n",
      "pixdim[2]: 1.5625\n",
      "pixdim[3]: 4\n",
      "pixdim[4]: 0\n",
      "pixdim[5]: 0\n",
      "pixdim[6]: 0\n",
      "pixdim[7]: 0\n",
      "qform_code: 1\n",
      "qoffset_x: 99.5\n",
      "qoffset_y: 102.2\n",
      "qoffset_z: -26.6\n",
      "quatern_b: 0\n",
      "quatern_c: 0\n",
      "quatern_d: 1\n",
      "scl_inter: 0\n",
      "scl_slope: 1\n",
      "sform_code: 1\n",
      "slice_code: \n",
      "slice_duration: 0\n",
      "slice_end: 0\n",
      "slice_start: 0\n",
      "srow_x: -1.5625 0 0 99.5\n",
      "srow_y: 0 -1.5625 0 102.2\n",
      "srow_z: 0 0 4 -26.6\n",
      "toffset: 0\n",
      "vox_offset: 352\n",
      "xyzt_units: \n"
     ]
    }
   ],
   "source": [
    "image_path = '/Users/amograo/Research_Projects/DL_HIE_2024/data_dir/BONBID2023_Train/1ADC_ss/MGHNICU_010-VISIT_01-ADC_ss.mha'\n",
    "image = sitk.ReadImage(image_path)\n",
    "print(sitk.GetArrayFromImage(image).shape)\n",
    "print(image.GetSize())\n",
    "print(image.GetSpacing())\n",
    "print(image.GetOrigin())\n",
    "print(image.GetDirection())\n",
    "print(image.GetPixelIDTypeAsString())\n",
    "print(image.GetMetaDataKeys())\n",
    "print(image.GetDepth())\n",
    "print(image.GetWidth())\n",
    "print(image.GetHeight())\n",
    "print(image.GetDimension())\n",
    "\n",
    "for key in image.GetMetaDataKeys():\n",
    "    print(key + \": \" + image.GetMetaData(key))"
   ]
  },
  {
   "cell_type": "code",
   "execution_count": null,
   "metadata": {},
   "outputs": [],
   "source": [
    "def extract_mha_file(file_path:str):\n",
    "    \"\"\"This function disassembles a mha file and returns a numpy array, the spacing, the direction and the origin of the image. \n",
    "    If required, this function will be modified to return other parameters mentioned in the the metadata of the mha file.\"\"\"\n",
    "    image = sitk.ReadImage(file_path)\n",
    "    image_array = sitk.GetArrayFromImage(image)\n",
    "    spacing = image.GetSpacing()\n",
    "    direction = image.GetDirection()\n",
    "    origin = image.GetOrigin()\n",
    "    return image_array, spacing[::-1], direction[::-1], origin[::-1]\n",
    "\n",
    "def save_slices(root,image_id,image_array,category = '') -> None:\n",
    "    \"\"\"Saves 2d Slices as npy files of 3d Image\"\"\"\n",
    "    for i in range(image_array.shape[0]):\n",
    "        np.save(f\"{root}/{image_id}_{category}_slice_{i}.npy\", image_array[i])\n",
    "\n",
    "def reassemble_to_3d(folder_path, uid) -> np.ndarray:\n",
    "    \"\"\"Reads the npy files of a certain patient and stacks them into a 3d image\"\"\"\n",
    "    files = sorted([file for file in os.listdir(folder_path) if extract_id(file)==uid], key = lambda x:int(x.split('.')[0].split('_')[-1]))\n",
    "    # files = sorted(os.listdir(folder_path), key = lambda x:int(x.split('.')[0].split('_')[-1]))\n",
    "    slices = []\n",
    "    for file in files:\n",
    "        slices.append(np.load(f\"{folder_path}/{file}\"))\n",
    "    return np.stack(slices)\n",
    "\n",
    "def extract_id(file_name:str) -> str:\n",
    "    \"\"\"The assumption is that the patient ID is the fist numeric sequence in the file name.\"\"\"\n",
    "    elements = file_name.split('-')[0].split('_')\n",
    "    for i in elements:\n",
    "        if i.isdigit():\n",
    "            return i\n",
    "\n",
    "def calculate_volume_percentage(mask):\n",
    "    return 0\n",
    "\n",
    "def get_metadata_split_files(adc_path,zadc_path,lesion_path,des_dir_root):\n",
    "    \"\"\"\n",
    "    \n",
    "    \"\"\""
   ]
  },
  {
   "cell_type": "code",
   "execution_count": null,
   "metadata": {},
   "outputs": [],
   "source": [
    "image_array, spacing, direction, origin = extract_mha_file(image_path)\n",
    "print(image_array.shape)\n",
    "print(spacing)\n",
    "print(direction)\n",
    "print(origin)"
   ]
  },
  {
   "cell_type": "code",
   "execution_count": null,
   "metadata": {},
   "outputs": [],
   "source": [
    "# MGHNICU_010-VISIT_01-ADC_ss\n",
    "save_slices('/Users/amograo/Research_Projects/DL_HIE_2024/test_saving','MGHNICU_010-VISIT_01-ADC_ss',image_array)"
   ]
  },
  {
   "cell_type": "code",
   "execution_count": null,
   "metadata": {},
   "outputs": [],
   "source": [
    "files = os.listdir('/Users/amograo/Research_Projects/DL_HIE_2024/test_saving')\n",
    "ids = [extract_id(file) for file in files]\n",
    "print(ids)"
   ]
  },
  {
   "cell_type": "code",
   "execution_count": null,
   "metadata": {},
   "outputs": [],
   "source": [
    "new_3d = reassemble_to_3d('/Users/amograo/Research_Projects/DL_HIE_2024/test_saving','010')"
   ]
  },
  {
   "cell_type": "code",
   "execution_count": null,
   "metadata": {},
   "outputs": [],
   "source": [
    "print(new_3d.shape)\n",
    "print(new_3d.dtype)\n",
    "print(image_array.dtype)\n",
    "print(np.array_equal(new_3d,image_array))\n",
    "print(np.array_equal(new_3d,sitk.GetArrayFromImage(image)))"
   ]
  },
  {
   "cell_type": "code",
   "execution_count": null,
   "metadata": {},
   "outputs": [],
   "source": [
    "# # plot each image in image_array\n",
    "# for i in range(image_array.shape[0]):\n",
    "#     plt.imshow(image_array[i,:,:])\n",
    "#     plt.show()\n",
    "#     plt.close()\n",
    "\n",
    "l = []\n",
    "k = []\n",
    "\n",
    "for i in image_array:\n",
    "    l.append(i)\n",
    "    # plt.imshow(i)\n",
    "    # plt.show()\n",
    "    # plt.close()\n",
    "\n",
    "for i in range(image_array.shape[0]):\n",
    "    k.append(image_array[i,:,:])\n",
    "#     plt.imshow(image_array[i,:,:])\n",
    "#     plt.show()\n",
    "#     plt.close()\n",
    "\n",
    "for i in range(len(l)):\n",
    "    print(np.array_equal(l[i], k[i]))"
   ]
  },
  {
   "cell_type": "code",
   "execution_count": null,
   "metadata": {},
   "outputs": [],
   "source": [
    "\"050\".isdigit()"
   ]
  }
 ],
 "metadata": {
  "kernelspec": {
   "display_name": "env_hie",
   "language": "python",
   "name": "python3"
  },
  "language_info": {
   "codemirror_mode": {
    "name": "ipython",
    "version": 3
   },
   "file_extension": ".py",
   "mimetype": "text/x-python",
   "name": "python",
   "nbconvert_exporter": "python",
   "pygments_lexer": "ipython3",
   "version": "3.10.11"
  }
 },
 "nbformat": 4,
 "nbformat_minor": 2
}
